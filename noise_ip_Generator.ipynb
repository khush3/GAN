{
 "cells": [
  {
   "cell_type": "code",
   "execution_count": 88,
   "metadata": {},
   "outputs": [],
   "source": [
    "##Generator which accepts single number and outputs image corresponding to the input"
   ]
  },
  {
   "cell_type": "code",
   "execution_count": 119,
   "metadata": {},
   "outputs": [],
   "source": [
    "#create dataloaders\n",
    "from random import randint as ri\n",
    "import torch as torch\n",
    "import torchvision\n",
    "import torchvision.transforms as transforms\n",
    "\n",
    "transform = transforms.Compose(\n",
    "    [transforms.ToTensor(),\n",
    "     transforms.Normalize((0.5, 0.5, 0.5), (0.5, 0.5, 0.5))])\n",
    "\n",
    "trainset = torchvision.datasets.MNIST(root='./data', train=True,\n",
    "                                        download=True, transform=transform)\n",
    "trainloader = torch.utils.data.DataLoader(trainset, batch_size=4,\n",
    "                                          shuffle=True, num_workers=2)\n",
    "\n",
    "\n",
    "testset = torchvision.datasets.MNIST(root='./data', train=False,\n",
    "                                       download=True, transform=transform)\n",
    "testloader = torch.utils.data.DataLoader(testset, batch_size=4,\n",
    "                                         shuffle=False, num_workers=2)\n",
    "\n",
    "classes = ('zero', 'one', 'two', 'three',\n",
    "           'four', 'five', 'six', 'seven', 'eight', 'nine')"
   ]
  },
  {
   "cell_type": "code",
   "execution_count": 120,
   "metadata": {},
   "outputs": [
    {
     "data": {
      "image/png": "[encoded data removed]",
      "text/plain": [
       "<Figure size 432x288 with 1 Axes>"
      ]
     },
     "metadata": {
      "needs_background": "light"
     },
     "output_type": "display_data"
    },
    {
     "name": "stdout",
     "output_type": "stream",
     "text": [
      "       six       eight       three       three\n"
     ]
    }
   ],
   "source": [
    "#check if data is loaded properly\n",
    "import matplotlib.pyplot as plt\n",
    "import numpy as np\n",
    "\n",
    "# functions to show an image\n",
    "def imshow(img):\n",
    "    img = img / 2 + 0.5     # unnormalize\n",
    "    npimg = img.detach().numpy()\n",
    "    plt.imshow(np.transpose(npimg, (1, 2, 0)))\n",
    "    plt.show()\n",
    "\n",
    "# get some random training images\n",
    "dataiter = iter(trainloader)\n",
    "images, labels = dataiter.next()\n",
    "\n",
    "# show images\n",
    "imshow(torchvision.utils.make_grid(images))\n",
    "# print labels\n",
    "print(' '.join('      %4s' % classes[labels[j]] for j in range(4)))"
   ]
  },
  {
   "cell_type": "code",
   "execution_count": null,
   "metadata": {},
   "outputs": [],
   "source": []
  },
  {
   "cell_type": "code",
   "execution_count": 121,
   "metadata": {},
   "outputs": [],
   "source": [
    "#Create a class for model \n",
    "import torch.nn as nn\n",
    "import torch.nn.functional as F\n",
    "\n",
    "\n",
    "class Generator(nn.Module):\n",
    "    def __init__(self):\n",
    "        \n",
    "        super(Generator, self).__init__()\n",
    "        self.block = nn.Sequential(\n",
    "            nn.Conv2d(in_channels = 1, out_channels = 1, kernel_size = (7), stride=1, padding = 26),      #Apply a convolutional block\n",
    "            nn.ReLU(),\n",
    "            #torch.nn.BatchNorm2d(1),\n",
    "            nn.Conv2d(in_channels = 1, out_channels = 1, kernel_size = (2), stride=1, padding = 1),\n",
    "            nn.MaxPool2d(2, 2),\n",
    "        )\n",
    "        \n",
    "    def forward(self, x):\n",
    "        x = abs(self.block(x))%1;\n",
    "        \n",
    "        return x\n"
   ]
  },
  {
   "cell_type": "code",
   "execution_count": 124,
   "metadata": {},
   "outputs": [
    {
     "data": {
      "text/plain": [
       "torch.Size([1, 1, 28, 28])"
      ]
     },
     "execution_count": 124,
     "metadata": {},
     "output_type": "execute_result"
    }
   ],
   "source": [
    "gen = Generator()\n",
    "a = gen(torch.randn((1,1,10,10)))\n",
    "a.shape"
   ]
  },
  {
   "cell_type": "code",
   "execution_count": 90,
   "metadata": {},
   "outputs": [
    {
     "name": "stdout",
     "output_type": "stream",
     "text": [
      "input Shape: torch.Size([1, 1, 10, 10])  value = tensor([[[2., 2., 2., 2., 2., 2., 2., 2., 2., 2.],\n",
      "         [2., 2., 2., 2., 2., 2., 2., 2., 2., 2.],\n",
      "         [2., 2., 2., 2., 2., 2., 2., 2., 2., 2.],\n",
      "         [2., 2., 2., 2., 2., 2., 2., 2., 2., 2.],\n",
      "         [2., 2., 2., 2., 2., 2., 2., 2., 2., 2.],\n",
      "         [2., 2., 2., 2., 2., 2., 2., 2., 2., 2.],\n",
      "         [2., 2., 2., 2., 2., 2., 2., 2., 2., 2.],\n",
      "         [2., 2., 2., 2., 2., 2., 2., 2., 2., 2.],\n",
      "         [2., 2., 2., 2., 2., 2., 2., 2., 2., 2.],\n",
      "         [2., 2., 2., 2., 2., 2., 2., 2., 2., 2.]]]) \n"
     ]
    },
    {
     "data": {
      "image/png": "[encoded data removed]",
      "text/plain": [
       "<Figure size 432x288 with 1 Axes>"
      ]
     },
     "metadata": {
      "needs_background": "light"
     },
     "output_type": "display_data"
    },
    {
     "data": {
      "text/plain": [
       "torch.Size([1, 1, 28, 28])"
      ]
     },
     "execution_count": 90,
     "metadata": {},
     "output_type": "execute_result"
    }
   ],
   "source": [
    "#Create an instance of the generator model\n",
    "gen = Generator()\n",
    "input_noise = torch.randn((1,1,10,10))\n",
    "input_noise[0] = ri(0,9)\n",
    "print(\"input Shape: {}  value = {} \".format(input_noise.shape,input_noise[0]))\n",
    "\n",
    "\n",
    "op = gen(input_noise)\n",
    "#op.shapeimages.shape\n",
    "#print(\"Output Shape: {}\".format(op.shape))\n",
    "\n",
    "imshow(torchvision.utils.make_grid(op[0,0,:,:]))\n",
    "op.shape"
   ]
  },
  {
   "cell_type": "code",
   "execution_count": 91,
   "metadata": {},
   "outputs": [],
   "source": [
    "#create optimization function and loss function\n",
    "import torch.optim as optim\n",
    "\n",
    "criterion = nn.BCELoss()\n",
    "generator_optimizer = optim.Adam(gen.parameters(), lr=0.00005)"
   ]
  },
  {
   "cell_type": "code",
   "execution_count": null,
   "metadata": {},
   "outputs": [],
   "source": []
  },
  {
   "cell_type": "code",
   "execution_count": 92,
   "metadata": {},
   "outputs": [
    {
     "data": {
      "image/png": "[encoded data removed]",
      "text/plain": [
       "<Figure size 432x288 with 1 Axes>"
      ]
     },
     "metadata": {
      "needs_background": "light"
     },
     "output_type": "display_data"
    }
   ],
   "source": [
    "imshow(torchvision.utils.make_grid(op[0,0]));"
   ]
  },
  {
   "cell_type": "code",
   "execution_count": 105,
   "metadata": {},
   "outputs": [
    {
     "name": "stdout",
     "output_type": "stream",
     "text": [
      "[Epoch: 1, No of images:  2000] loss: 0.571\n",
      "[Epoch: 1, No of images:  4000] loss: 0.570\n",
      "[Epoch: 1, No of images:  6000] loss: 0.567\n",
      "[Epoch: 1, No of images:  8000] loss: 0.565\n",
      "[Epoch: 1, No of images: 10000] loss: 0.560\n",
      "[Epoch: 1, No of images: 12000] loss: 0.560\n",
      "[Epoch: 1, No of images: 14000] loss: 0.555\n",
      "[Epoch: 2, No of images:  2000] loss: 0.551\n",
      "[Epoch: 2, No of images:  4000] loss: 0.548\n",
      "[Epoch: 2, No of images:  6000] loss: 0.543\n",
      "[Epoch: 2, No of images:  8000] loss: 0.543\n",
      "[Epoch: 2, No of images: 10000] loss: 0.540\n",
      "[Epoch: 2, No of images: 12000] loss: 0.540\n",
      "[Epoch: 2, No of images: 14000] loss: 0.538\n",
      "[Epoch: 3, No of images:  2000] loss: 0.536\n",
      "[Epoch: 3, No of images:  4000] loss: 0.534\n",
      "[Epoch: 3, No of images:  6000] loss: 0.533\n",
      "[Epoch: 3, No of images:  8000] loss: 0.531\n",
      "[Epoch: 3, No of images: 10000] loss: 0.529\n",
      "[Epoch: 3, No of images: 12000] loss: 0.530\n",
      "[Epoch: 3, No of images: 14000] loss: 0.528\n",
      "[Epoch: 4, No of images:  2000] loss: 0.528\n",
      "[Epoch: 4, No of images:  4000] loss: 0.526\n",
      "[Epoch: 4, No of images:  6000] loss: 0.525\n",
      "[Epoch: 4, No of images:  8000] loss: 0.526\n",
      "[Epoch: 4, No of images: 10000] loss: 0.524\n",
      "[Epoch: 4, No of images: 12000] loss: 0.524\n",
      "[Epoch: 4, No of images: 14000] loss: 0.523\n",
      "[Epoch: 5, No of images:  2000] loss: 0.521\n",
      "[Epoch: 5, No of images:  4000] loss: 0.520\n",
      "[Epoch: 5, No of images:  6000] loss: 0.522\n",
      "[Epoch: 5, No of images:  8000] loss: 0.521\n",
      "[Epoch: 5, No of images: 10000] loss: 0.522\n",
      "[Epoch: 5, No of images: 12000] loss: 0.521\n",
      "[Epoch: 5, No of images: 14000] loss: 0.521\n",
      "[Epoch: 6, No of images:  2000] loss: 0.520\n",
      "[Epoch: 6, No of images:  4000] loss: 0.519\n",
      "[Epoch: 6, No of images:  6000] loss: 0.521\n",
      "[Epoch: 6, No of images:  8000] loss: 0.520\n",
      "[Epoch: 6, No of images: 10000] loss: 0.521\n",
      "[Epoch: 6, No of images: 12000] loss: 0.519\n",
      "[Epoch: 6, No of images: 14000] loss: 0.521\n",
      "[Epoch: 7, No of images:  2000] loss: 0.521\n",
      "[Epoch: 7, No of images:  4000] loss: 0.519\n",
      "[Epoch: 7, No of images:  6000] loss: 0.518\n",
      "[Epoch: 7, No of images:  8000] loss: 0.520\n",
      "[Epoch: 7, No of images: 10000] loss: 0.518\n",
      "[Epoch: 7, No of images: 12000] loss: 0.519\n",
      "[Epoch: 7, No of images: 14000] loss: 0.518\n",
      "[Epoch: 8, No of images:  2000] loss: 0.518\n",
      "[Epoch: 8, No of images:  4000] loss: 0.518\n",
      "[Epoch: 8, No of images:  6000] loss: 0.518\n",
      "[Epoch: 8, No of images:  8000] loss: 0.518\n",
      "[Epoch: 8, No of images: 10000] loss: 0.518\n",
      "[Epoch: 8, No of images: 12000] loss: 0.521\n",
      "[Epoch: 8, No of images: 14000] loss: 0.518\n",
      "[Epoch: 9, No of images:  2000] loss: 0.519\n",
      "[Epoch: 9, No of images:  4000] loss: 0.518\n",
      "[Epoch: 9, No of images:  6000] loss: 0.520\n",
      "[Epoch: 9, No of images:  8000] loss: 0.521\n",
      "[Epoch: 9, No of images: 10000] loss: 0.517\n",
      "[Epoch: 9, No of images: 12000] loss: 0.519\n",
      "[Epoch: 9, No of images: 14000] loss: 0.519\n",
      "[Epoch: 10, No of images:  2000] loss: 0.518\n",
      "[Epoch: 10, No of images:  4000] loss: 0.521\n",
      "[Epoch: 10, No of images:  6000] loss: 0.518\n",
      "[Epoch: 10, No of images:  8000] loss: 0.519\n",
      "[Epoch: 10, No of images: 10000] loss: 0.518\n",
      "[Epoch: 10, No of images: 12000] loss: 0.519\n",
      "[Epoch: 10, No of images: 14000] loss: 0.517\n",
      "Finished Training\n"
     ]
    }
   ],
   "source": [
    "#loop over the dataset multiple times\n",
    "for epoch in range(10):\n",
    "\n",
    "    running_loss = 0.0\n",
    "    for i, data in enumerate(trainloader, 0):\n",
    "        # get the inputs\n",
    "        images, labels = data\n",
    "        ip = torch.randn((4,1,10,10))\n",
    "        #labels = labels.view((1,1,1,1))\n",
    "        # zero the parameter gradients\n",
    "        generator_optimizer.zero_grad()\n",
    "\n",
    "        # forward + backward + optimize\n",
    "        op_images = gen(ip)\n",
    "        \n",
    "        loss = criterion(op_images, -images)\n",
    "        loss.backward()\n",
    "        generator_optimizer.step()\n",
    "\n",
    "        # print statistics\n",
    "        running_loss += loss.item()\n",
    "        if i % 2000 == 1999:    # print every 2000 mini-batches\n",
    "            print('[Epoch: %d, No of images: %5d] loss: %.3f' %\n",
    "                  (epoch + 1, i + 1, running_loss / 2000))\n",
    "            running_loss = 0.0\n",
    "\n",
    "print('Finished Training')"
   ]
  },
  {
   "cell_type": "code",
   "execution_count": 118,
   "metadata": {},
   "outputs": [],
   "source": [
    "conv1_bias = gen.block[0].bias\n",
    "conv2_weight = gen.block[0].weight\n",
    "conv2_bias = gen.block[0].bias\n"
   ]
  },
  {
   "cell_type": "code",
   "execution_count": 110,
   "metadata": {
    "scrolled": true
   },
   "outputs": [
    {
     "data": {
      "image/png": "[encoded data removed]",
      "text/plain": [
       "<Figure size 432x288 with 1 Axes>"
      ]
     },
     "metadata": {
      "needs_background": "light"
     },
     "output_type": "display_data"
    },
    {
     "name": "stdout",
     "output_type": "stream",
     "text": [
      "GroundTruth:  seven   two   one  zero\n"
     ]
    }
   ],
   "source": [
    "#validate over test set\n",
    "dataiter = iter(testloader)\n",
    "images, labels = dataiter.next()\n",
    "\n",
    "# print images\n",
    "imshow(torchvision.utils.make_grid(images))\n",
    "print('GroundTruth: ', ' '.join('%5s' % classes[labels[j]] for j in range(4)))"
   ]
  },
  {
   "cell_type": "code",
   "execution_count": null,
   "metadata": {},
   "outputs": [],
   "source": []
  },
  {
   "cell_type": "code",
   "execution_count": null,
   "metadata": {},
   "outputs": [],
   "source": [
    "_, predicted = torch.max(outputs, 1)\n",
    "\n",
    "print('Predicted: ', ' '.join('%5s' % classes[predicted[j]]\n",
    "                              for j in range(4)))"
   ]
  },
  {
   "cell_type": "code",
   "execution_count": null,
   "metadata": {},
   "outputs": [],
   "source": [
    "correct = 0\n",
    "total = 0\n",
    "with torch.no_grad():\n",
    "    for data in testloader:\n",
    "        images, labels = data\n",
    "        outputs = gen(images)\n",
    "        _, predicted = torch.max(outputs.data, 1)\n",
    "        total += labels.size(0)\n",
    "        correct += (predicted == labels).sum().item()\n",
    "\n",
    "print('Accuracy of the network on the 10000 test images: %d %%' % (\n",
    "    100 * correct / total))"
   ]
  },
  {
   "cell_type": "code",
   "execution_count": null,
   "metadata": {},
   "outputs": [],
   "source": [
    "class_correct = list(0. for i in range(10))\n",
    "class_total = list(0. for i in range(10))\n",
    "with torch.no_grad():\n",
    "    for data in testloader:\n",
    "        images, labels = data\n",
    "        outputs = net(images)\n",
    "        _, predicted = torch.max(outputs, 1)\n",
    "        c = (predicted == labels).squeeze()\n",
    "        for i in range(4):\n",
    "            label = labels[i]\n",
    "            class_correct[label] += c[i].item()\n",
    "            class_total[label] += 1\n",
    "\n",
    "\n",
    "for i in range(10):\n",
    "    print('Accuracy of %5s : %2d %%' % (\n",
    "        classes[i], 100 * class_correct[i] / class_total[i]))"
   ]
  },
  {
   "cell_type": "code",
   "execution_count": null,
   "metadata": {},
   "outputs": [],
   "source": []
  },
  {
   "cell_type": "code",
   "execution_count": null,
   "metadata": {},
   "outputs": [],
   "source": []
  }
 ],
 "metadata": {
  "kernelspec": {
   "display_name": "Python 3",
   "language": "python",
   "name": "python3"
  },
  "language_info": {
   "codemirror_mode": {
    "name": "ipython",
    "version": 3
   },
   "file_extension": ".py",
   "mimetype": "text/x-python",
   "name": "python",
   "nbconvert_exporter": "python",
   "pygments_lexer": "ipython3",
   "version": "3.7.0"
  }
 },
 "nbformat": 4,
 "nbformat_minor": 2
}
