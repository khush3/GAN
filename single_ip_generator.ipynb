{
 "cells": [
  {
   "cell_type": "code",
   "execution_count": 1,
   "metadata": {},
   "outputs": [],
   "source": [
    "##Generator which accepts single number and outputs image corresponding to the input"
   ]
  },
  {
   "cell_type": "code",
   "execution_count": 2,
   "metadata": {},
   "outputs": [],
   "source": [
    "#create dataloaders\n",
    "from random import randint as ri\n",
    "import torch as torch\n",
    "import torchvision\n",
    "import torchvision.transforms as transforms\n",
    "\n",
    "transform = transforms.Compose(\n",
    "    [transforms.ToTensor(),\n",
    "     transforms.Normalize((0.5, 0.5, 0.5), (0.5, 0.5, 0.5))])\n",
    "\n",
    "trainset = torchvision.datasets.MNIST(root='./data', train=True,\n",
    "                                        download=True, transform=transform)\n",
    "trainloader = torch.utils.data.DataLoader(trainset, batch_size=4,\n",
    "                                          shuffle=True, num_workers=2)\n",
    "\n",
    "testset = torchvision.datasets.MNIST(root='./data', train=False,\n",
    "                                       download=True, transform=transform)\n",
    "testloader = torch.utils.data.DataLoader(testset, batch_size=4,\n",
    "                                         shuffle=False, num_workers=2)\n",
    "\n",
    "classes = ('zero', 'one', 'two', 'three',\n",
    "           'four', 'five', 'six', 'seven', 'eight', 'nine')"
   ]
  },
  {
   "cell_type": "code",
   "execution_count": 3,
   "metadata": {},
   "outputs": [
    {
     "data": {
      "text/plain": [
       "<Figure size 640x480 with 1 Axes>"
      ]
     },
     "metadata": {},
     "output_type": "display_data"
    },
    {
     "name": "stdout",
     "output_type": "stream",
     "text": [
      "      seven       seven       five       nine\n"
     ]
    }
   ],
   "source": [
    "#check if data is loaded properly\n",
    "import matplotlib.pyplot as plt\n",
    "import numpy as np\n",
    "\n",
    "# functions to show an image\n",
    "def imshow(img):\n",
    "    img = img / 2 + 0.5     # unnormalize\n",
    "    npimg = img.detach().numpy()\n",
    "    plt.imshow(np.transpose(npimg, (1, 2, 0)))\n",
    "    plt.show()\n",
    "\n",
    "# get some random training images\n",
    "dataiter = iter(trainloader)\n",
    "images, labels = dataiter.next()\n",
    "\n",
    "# show images\n",
    "imshow(torchvision.utils.make_grid(images))\n",
    "# print labels\n",
    "print(' '.join('      %4s' % classes[labels[j]] for j in range(4)))"
   ]
  },
  {
   "cell_type": "code",
   "execution_count": 4,
   "metadata": {},
   "outputs": [],
   "source": [
    "#Create a class for model \n",
    "import torch.nn as nn\n",
    "import torch.nn.functional as F\n",
    "\n",
    "\n",
    "class Generator(nn.Module):\n",
    "    def __init__(self):\n",
    "        \n",
    "        super(Generator, self).__init__()\n",
    "        self.block = nn.Sequential(\n",
    "            nn.Conv2d(in_channels = 1, out_channels = 1, kernel_size = (7), stride=1, padding = 30),      #Apply a convolution block\n",
    "            nn.ReLU(),\n",
    "            nn.Conv2d(in_channels = 1, out_channels = 1, kernel_size = (2), stride=1, padding = 1),\n",
    "            nn.MaxPool2d(2, 2),\n",
    "            nn.ReLU(),\n",
    "        )\n",
    "        \n",
    "    def forward(self, x):\n",
    "        x = self.block(x);\n",
    "        \n",
    "        return x\n"
   ]
  },
  {
   "cell_type": "code",
   "execution_count": 5,
   "metadata": {},
   "outputs": [
    {
     "name": "stdout",
     "output_type": "stream",
     "text": [
      "input Shape: torch.Size([1, 1, 1, 1])  value = tensor([[[3.]]]) \n"
     ]
    },
    {
     "data": {
      "image/png": "[encoded data removed]",
      "text/plain": [
       "<Figure size 432x288 with 1 Axes>"
      ]
     },
     "metadata": {
      "needs_background": "light"
     },
     "output_type": "display_data"
    },
    {
     "data": {
      "text/plain": [
       "torch.Size([1, 1, 28, 28])"
      ]
     },
     "execution_count": 5,
     "metadata": {},
     "output_type": "execute_result"
    }
   ],
   "source": [
    "#Create an instance of the generator model\n",
    "gen = Generator()\n",
    "input_noise = torch.randn((1,1,1,1))\n",
    "input_noise[0] = ri(0,9)\n",
    "print(\"input Shape: {}  value = {} \".format(input_noise.shape,input_noise[0]))\n",
    "\n",
    "\n",
    "op = gen(input_noise)\n",
    "#op.shapeimages.shape\n",
    "#print(\"Output Shape: {}\".format(op.shape))\n",
    "\n",
    "imshow(torchvision.utils.make_grid(op[0,0,:,:]))\n",
    "op.shape"
   ]
  },
  {
   "cell_type": "code",
   "execution_count": 6,
   "metadata": {},
   "outputs": [],
   "source": [
    "#create optimization function and loss function\n",
    "import torch.optim as optim\n",
    "\n",
    "criterion = nn.BCELoss()\n",
    "generator_optimizer = optim.Adam(gen.parameters(), lr=0.00005)"
   ]
  },
  {
   "cell_type": "code",
   "execution_count": 7,
   "metadata": {},
   "outputs": [],
   "source": [
    "ip = torch.randn((4,1,1,1))"
   ]
  },
  {
   "cell_type": "code",
   "execution_count": 8,
   "metadata": {},
   "outputs": [
    {
     "name": "stdout",
     "output_type": "stream",
     "text": [
      "[Epoch: 1, No of images:  2000] loss: -20.423\n",
      "[Epoch: 1, No of images:  4000] loss: -20.405\n",
      "[Epoch: 1, No of images:  6000] loss: -20.455\n",
      "[Epoch: 1, No of images:  8000] loss: -20.416\n",
      "[Epoch: 1, No of images: 10000] loss: -20.378\n",
      "[Epoch: 1, No of images: 12000] loss: -20.428\n",
      "[Epoch: 1, No of images: 14000] loss: -20.402\n",
      "Finished Training\n"
     ]
    }
   ],
   "source": [
    "#loop over the dataset multiple times\n",
    "for epoch in range(1):\n",
    "\n",
    "    running_loss = 0.0\n",
    "    for i, data in enumerate(trainloader, 0):\n",
    "        # get the inputs\n",
    "        images, labels = data\n",
    "        ip[:,0,0,0] = labels;\n",
    "        #labels = labels.view((1,1,1,1))\n",
    "        # zero the parameter gradients\n",
    "        generator_optimizer.zero_grad()\n",
    "\n",
    "        # forward + backward + optimize\n",
    "        op_images = gen(ip)\n",
    "        \n",
    "        loss = criterion(op_images, images)\n",
    "        loss.backward()\n",
    "        generator_optimizer.step()\n",
    "\n",
    "        # print statistics\n",
    "        running_loss += loss.item()\n",
    "        if i % 2000 == 1999:    # print every 2000 mini-batches\n",
    "            print('[Epoch: %d, No of images: %5d] loss: %.3f' %\n",
    "                  (epoch + 1, i + 1, running_loss / 2000))\n",
    "            running_loss = 0.0\n",
    "\n",
    "print('Finished Training')"
   ]
  },
  {
   "cell_type": "code",
   "execution_count": 14,
   "metadata": {
    "scrolled": true
   },
   "outputs": [
    {
     "data": {
      "image/png": "[encoded data removed]",
      "text/plain": [
       "<Figure size 432x288 with 1 Axes>"
      ]
     },
     "metadata": {
      "needs_background": "light"
     },
     "output_type": "display_data"
    },
    {
     "name": "stdout",
     "output_type": "stream",
     "text": [
      "GroundTruth:  seven   two   one  zero\n"
     ]
    }
   ],
   "source": [
    "#validate over test set\n",
    "dataiter = iter(testloader)\n",
    "images, labels = dataiter.next()\n",
    "\n",
    "# print images\n",
    "imshow(torchvision.utils.make_grid(images))\n",
    "print('GroundTruth: ', ' '.join('%5s' % classes[labels[j]] for j in range(4)))"
   ]
  },
  {
   "cell_type": "code",
   "execution_count": 19,
   "metadata": {},
   "outputs": [
    {
     "data": {
      "image/png": "[encoded data removed]",
      "text/plain": [
       "<Figure size 432x288 with 1 Axes>"
      ]
     },
     "metadata": {
      "needs_background": "light"
     },
     "output_type": "display_data"
    }
   ],
   "source": [
    "imshow(torchvision.utils.make_grid(gen(torch.randn(1,1,10,10))))"
   ]
  },
  {
   "cell_type": "code",
   "execution_count": 10,
   "metadata": {},
   "outputs": [
    {
     "data": {
      "image/png": "[encoded data removed]",
      "text/plain": [
       "<Figure size 432x288 with 1 Axes>"
      ]
     },
     "metadata": {
      "needs_background": "light"
     },
     "output_type": "display_data"
    }
   ],
   "source": [
    "a = torch.ones((1,1,1,1))\n",
    "a[0,0,0,0] = torch.randn(1)\n",
    "imshow(torchvision.utils.make_grid(gen(a)))"
   ]
  },
  {
   "cell_type": "code",
   "execution_count": null,
   "metadata": {},
   "outputs": [],
   "source": []
  },
  {
   "cell_type": "code",
   "execution_count": 11,
   "metadata": {},
   "outputs": [],
   "source": [
    "import torchvision.models as models\n",
    "alexnet = models.alexnet()\n",
    "alexnet.features\n",
    "weights1 = alexnet.features[0].weight\n",
    "npweights1 = weights1.data.numpy()"
   ]
  },
  {
   "cell_type": "code",
   "execution_count": 12,
   "metadata": {},
   "outputs": [
    {
     "data": {
      "text/plain": [
       "array([[[[ 4.75027189e-02, -3.45840156e-02,  2.38446221e-02, ...,\n",
       "           1.36045367e-03,  3.31557021e-02, -2.05443054e-02],\n",
       "         [ 2.75276452e-02, -2.25603785e-02,  1.36757717e-02, ...,\n",
       "           6.93794340e-03, -1.45144016e-02, -3.96530777e-02],\n",
       "         [ 2.93959454e-02, -9.30858776e-03,  5.34594804e-03, ...,\n",
       "           3.19790244e-02, -1.21855959e-02,  1.44523233e-02],\n",
       "         ...,\n",
       "         [ 3.36138532e-02, -1.68929435e-02, -4.63738143e-02, ...,\n",
       "           2.19492614e-02,  3.47364917e-02,  9.77336615e-03],\n",
       "         [ 1.84784755e-02,  4.57666814e-02, -2.04158463e-02, ...,\n",
       "           1.51182190e-02, -3.19240168e-02,  4.23924625e-03],\n",
       "         [ 4.86338958e-02,  3.10959667e-02,  3.97138298e-03, ...,\n",
       "           7.13079423e-03,  4.85138744e-02,  6.33684173e-03]],\n",
       "\n",
       "        [[-3.83098423e-03, -2.50306278e-02,  2.43682414e-02, ...,\n",
       "           5.12417331e-02,  1.77870616e-02, -2.67846454e-02],\n",
       "         [-4.97239344e-02, -1.50622763e-02,  1.10547617e-03, ...,\n",
       "          -9.74207744e-03,  9.52387974e-03, -3.68417948e-02],\n",
       "         [-9.73007455e-03, -4.77039553e-02, -4.16551232e-02, ...,\n",
       "           1.63986087e-02, -1.04295127e-02,  3.06387022e-02],\n",
       "         ...,\n",
       "         [-3.07819620e-03,  5.52691519e-03,  1.54260620e-02, ...,\n",
       "           2.01401412e-02, -2.38455199e-02,  4.59144562e-02],\n",
       "         [ 9.22166184e-03,  4.07008603e-02, -1.41941980e-02, ...,\n",
       "          -3.12106311e-03, -6.12590462e-04, -2.29032431e-02],\n",
       "         [-2.60684099e-02, -9.57974792e-03,  9.21290740e-03, ...,\n",
       "           2.70430222e-02,  6.39586896e-03, -4.28005978e-02]],\n",
       "\n",
       "        [[ 2.10118815e-02,  3.87887508e-02, -4.79537398e-02, ...,\n",
       "          -2.83193961e-03, -4.17585894e-02, -4.13662866e-02],\n",
       "         [ 3.38928774e-02,  2.74534896e-02,  4.78694141e-02, ...,\n",
       "          -2.47005392e-02,  1.65976062e-02,  4.54039648e-02],\n",
       "         [-5.04858010e-02, -2.38642227e-02,  1.28516480e-02, ...,\n",
       "          -4.39194702e-02, -1.80209093e-02,  3.55470926e-04],\n",
       "         ...,\n",
       "         [-2.57473141e-02, -1.31849609e-02, -1.96460672e-02, ...,\n",
       "          -2.13332959e-02,  3.09673846e-02,  1.92581043e-02],\n",
       "         [-1.39863007e-02,  4.17895690e-02, -2.78618094e-02, ...,\n",
       "           5.07319868e-02,  3.66024449e-02, -3.15370932e-02],\n",
       "         [-9.62957740e-03, -3.25667784e-02,  4.97259051e-02, ...,\n",
       "           2.88150385e-02,  5.16801178e-02, -2.98060551e-02]]],\n",
       "\n",
       "\n",
       "       [[[-1.53873339e-02,  4.25756648e-02, -1.63383260e-02, ...,\n",
       "           2.53591090e-02, -1.03598870e-02, -5.22020794e-02],\n",
       "         [ 3.57832015e-02,  3.59142870e-02, -5.21360114e-02, ...,\n",
       "          -1.25599802e-02, -4.68686894e-02,  1.29051134e-02],\n",
       "         [ 4.56406847e-02,  8.34090263e-03,  5.19247949e-02, ...,\n",
       "           8.18299130e-03, -1.89276487e-02,  1.41370520e-02],\n",
       "         ...,\n",
       "         [-2.38393880e-02, -1.06773898e-03, -4.31628525e-02, ...,\n",
       "           3.46373245e-02,  2.99947709e-02,  3.55588421e-02],\n",
       "         [ 2.53209546e-02, -3.88012491e-02,  2.96291858e-02, ...,\n",
       "          -3.43953967e-02, -4.29363996e-02, -3.30434591e-02],\n",
       "         [-4.25087996e-02,  6.30080700e-04,  4.96550128e-02, ...,\n",
       "          -1.14962719e-02, -2.08218023e-03, -5.19838557e-02]],\n",
       "\n",
       "        [[ 3.07587609e-02,  1.94965079e-02,  1.94600299e-02, ...,\n",
       "           4.95596379e-02,  1.19518191e-02,  2.53310427e-02],\n",
       "         [-1.05823614e-02, -2.49373559e-02, -3.87781113e-03, ...,\n",
       "           2.66913399e-02,  8.83431360e-03,  1.54684857e-03],\n",
       "         [ 6.14970550e-03,  5.08074090e-02, -3.08503807e-02, ...,\n",
       "           9.42943245e-03, -3.83875258e-02,  1.85337439e-02],\n",
       "         ...,\n",
       "         [-1.62771344e-02, -4.30561975e-02,  8.47564265e-03, ...,\n",
       "           3.77911627e-02,  3.43645737e-03,  2.77944282e-03],\n",
       "         [ 2.85313278e-02, -8.55481625e-03, -5.65432012e-04, ...,\n",
       "           6.69964403e-03, -1.67464428e-02,  4.90730032e-02],\n",
       "         [-4.69231978e-02, -3.31522748e-02,  4.05582041e-02, ...,\n",
       "           2.44850814e-02,  4.84803021e-02, -2.90861521e-02]],\n",
       "\n",
       "        [[ 1.99855193e-02,  2.51208842e-02, -3.72723863e-02, ...,\n",
       "          -3.35398912e-02,  4.90760803e-02,  6.34995475e-03],\n",
       "         [ 1.05546638e-02, -1.31801926e-02,  1.97123215e-02, ...,\n",
       "          -8.37045163e-03, -4.01583761e-02, -1.37525015e-02],\n",
       "         [-8.99565220e-03,  3.03907320e-02, -4.42953892e-02, ...,\n",
       "           4.82321903e-02,  1.97211355e-02, -4.38006893e-02],\n",
       "         ...,\n",
       "         [ 3.65448073e-02,  1.60270706e-02, -5.19224592e-02, ...,\n",
       "           6.24070317e-03, -1.89344510e-02, -7.45017081e-04],\n",
       "         [-3.64908651e-02, -4.55650128e-02, -1.12039931e-02, ...,\n",
       "           3.33050489e-02, -4.57612723e-02,  4.66459543e-02],\n",
       "         [-4.51461002e-02,  4.11834195e-02,  2.16887817e-02, ...,\n",
       "           1.19221285e-02,  5.89259714e-03, -4.49881181e-02]]],\n",
       "\n",
       "\n",
       "       [[[-3.83507237e-02,  2.34805048e-03,  4.52328846e-02, ...,\n",
       "           3.27387378e-02,  5.24845347e-03, -1.61851719e-02],\n",
       "         [-2.50450056e-02,  2.80633494e-02,  2.90391669e-02, ...,\n",
       "           4.79774103e-02,  1.60450041e-02, -3.26749459e-02],\n",
       "         [ 2.58171409e-02,  2.69176662e-02, -1.14271753e-02, ...,\n",
       "           2.23534629e-02, -1.73042007e-02,  5.14829680e-02],\n",
       "         ...,\n",
       "         [-3.84999812e-02, -4.92251441e-02,  2.88505405e-02, ...,\n",
       "           2.19239965e-02,  6.87610358e-04, -2.59839371e-03],\n",
       "         [ 2.28388458e-02, -4.95510772e-02,  1.67416483e-02, ...,\n",
       "           1.48541555e-02, -3.64688896e-02, -4.08516489e-02],\n",
       "         [ 3.83284464e-02, -1.69537775e-02, -2.19147447e-02, ...,\n",
       "          -4.27321121e-02,  2.76158974e-02,  2.72522122e-03]],\n",
       "\n",
       "        [[-1.94419213e-02, -1.65836476e-02, -1.52013302e-02, ...,\n",
       "           4.75215986e-02, -1.82147846e-02, -6.58484548e-03],\n",
       "         [-2.71920357e-02, -4.76781279e-02,  1.94887072e-02, ...,\n",
       "           3.57699320e-02,  1.23487338e-02,  5.14380485e-02],\n",
       "         [-3.09254453e-02,  1.26093999e-03, -1.38411932e-02, ...,\n",
       "           4.19615954e-02,  8.38453695e-03,  4.01854739e-02],\n",
       "         ...,\n",
       "         [-1.36417821e-02, -1.78535469e-02,  8.96617398e-03, ...,\n",
       "           4.41181958e-02, -3.21543291e-02, -5.76744601e-03],\n",
       "         [ 5.42338938e-03, -4.82185148e-02,  3.95729542e-02, ...,\n",
       "           3.15206125e-02, -4.90813777e-02, -9.50850546e-04],\n",
       "         [ 1.82716623e-02,  4.25757542e-02, -1.56570226e-02, ...,\n",
       "          -1.18761547e-02,  3.95682827e-02,  4.20948640e-02]],\n",
       "\n",
       "        [[ 1.02451891e-02,  1.24849528e-02,  3.54010835e-02, ...,\n",
       "           4.53635007e-02, -4.22838889e-02, -2.30309963e-02],\n",
       "         [ 4.86825779e-02,  2.35166997e-02,  4.00941819e-02, ...,\n",
       "           2.06146017e-02,  3.23858708e-02,  4.37617600e-02],\n",
       "         [ 1.87030435e-02,  4.15839255e-03, -3.91290151e-02, ...,\n",
       "          -4.16147336e-03,  4.43631262e-02,  4.34372127e-02],\n",
       "         ...,\n",
       "         [-1.69809833e-02, -4.42974977e-02, -5.67568466e-03, ...,\n",
       "           6.39338046e-04, -5.10213189e-02, -3.90374400e-02],\n",
       "         [ 1.49828494e-02, -3.23937833e-02, -1.85382031e-02, ...,\n",
       "          -3.81958038e-02, -1.25109963e-02,  3.85726541e-02],\n",
       "         [ 4.92267162e-02, -4.53201644e-02,  4.57904562e-02, ...,\n",
       "          -4.98211458e-02, -4.06038091e-02,  2.96620727e-02]]],\n",
       "\n",
       "\n",
       "       ...,\n",
       "\n",
       "\n",
       "       [[[ 4.98842448e-02,  9.16578248e-03,  2.55448818e-02, ...,\n",
       "           4.35535535e-02, -7.93311745e-03,  3.60371470e-02],\n",
       "         [-2.41605099e-02, -3.72784212e-02, -1.08411387e-02, ...,\n",
       "           5.13729155e-02, -2.62556579e-02,  2.27997825e-03],\n",
       "         [ 2.70195603e-02,  7.48657063e-03,  4.18759286e-02, ...,\n",
       "           2.51808316e-02,  3.54278833e-02, -3.05334330e-02],\n",
       "         ...,\n",
       "         [-3.62582281e-02, -1.85645744e-02,  2.27715448e-02, ...,\n",
       "           2.08311751e-02,  2.20439062e-02,  3.77992019e-02],\n",
       "         [-1.52462460e-02,  7.43225589e-03, -7.88694620e-03, ...,\n",
       "           2.02237740e-02,  1.72789022e-03, -4.71355766e-02],\n",
       "         [-2.45273113e-05, -2.29169633e-02, -1.31150894e-02, ...,\n",
       "           3.20840627e-02, -4.96045798e-02,  3.23322788e-02]],\n",
       "\n",
       "        [[ 5.14383093e-02,  3.65069956e-02, -4.94994000e-02, ...,\n",
       "           6.60685450e-03, -2.82690860e-02,  1.43647045e-02],\n",
       "         [ 4.53844965e-02,  2.28605792e-03,  5.01536876e-02, ...,\n",
       "           1.91616341e-02,  4.67852205e-02,  2.33437419e-02],\n",
       "         [-3.13965492e-02, -4.21164930e-02, -2.96233092e-02, ...,\n",
       "           6.80994242e-03,  6.90477714e-03,  2.19742209e-03],\n",
       "         ...,\n",
       "         [-2.82631982e-02,  4.22557443e-03,  4.41225171e-02, ...,\n",
       "          -2.27557868e-02,  2.40669027e-03,  1.03336424e-02],\n",
       "         [ 3.11701372e-02, -6.84092566e-03,  4.89759818e-03, ...,\n",
       "           2.07681283e-02,  3.46960500e-02,  4.18298244e-02],\n",
       "         [-3.70158516e-02,  3.11319232e-02, -1.06841736e-02, ...,\n",
       "          -4.74790633e-02, -3.67292389e-03, -4.48616482e-02]],\n",
       "\n",
       "        [[-1.75632015e-02,  9.60287452e-03, -9.86840576e-04, ...,\n",
       "           1.47935301e-02, -3.40300426e-02,  4.66405526e-02],\n",
       "         [-1.13279782e-02, -4.21285480e-02, -4.85345535e-02, ...,\n",
       "           6.96868822e-03, -3.35565358e-02, -7.70261511e-03],\n",
       "         [ 6.43570349e-03,  1.69813484e-02,  3.12549844e-02, ...,\n",
       "           7.38843903e-03, -5.11667281e-02, -3.98285240e-02],\n",
       "         ...,\n",
       "         [-2.58222222e-04,  7.87913799e-04,  7.80448318e-03, ...,\n",
       "          -4.55123633e-02, -3.79794389e-02, -8.68965313e-03],\n",
       "         [ 1.66827738e-02,  9.59432870e-03,  4.62204516e-02, ...,\n",
       "           2.43293419e-02,  5.24332374e-02,  2.73065269e-02],\n",
       "         [ 4.77363616e-02,  4.89330366e-02, -4.67083864e-02, ...,\n",
       "          -1.10402964e-02,  4.57552522e-02,  4.31866497e-02]]],\n",
       "\n",
       "\n",
       "       [[[-4.65829000e-02, -2.63708979e-02, -2.20060404e-02, ...,\n",
       "          -3.70118245e-02,  2.42871568e-02, -1.82633512e-02],\n",
       "         [ 1.72106624e-02,  2.22965181e-02,  4.12648097e-02, ...,\n",
       "          -3.85632813e-02, -2.58820169e-02, -8.37733597e-03],\n",
       "         [-2.54207738e-02,  4.22729924e-02, -3.50389853e-02, ...,\n",
       "          -1.37210488e-02,  3.84116918e-02, -1.95505023e-02],\n",
       "         ...,\n",
       "         [ 3.41138989e-02,  2.55266875e-02,  5.23010194e-02, ...,\n",
       "           4.43780050e-02,  1.60859004e-02, -4.37938049e-03],\n",
       "         [ 2.40954980e-02,  4.78595123e-03, -5.78380376e-03, ...,\n",
       "           2.83610746e-02, -2.48625856e-02,  1.38402134e-02],\n",
       "         [ 4.77820933e-02,  1.67201161e-02, -4.13204767e-02, ...,\n",
       "          -1.59177221e-02, -1.24656856e-02,  4.91602495e-02]],\n",
       "\n",
       "        [[ 2.45096833e-02, -1.62907876e-02,  1.84642822e-02, ...,\n",
       "           1.52861252e-02,  4.25914302e-02,  4.63450328e-03],\n",
       "         [-3.36894020e-02,  5.20806089e-02,  2.81538889e-02, ...,\n",
       "          -5.01959249e-02, -4.67319191e-02,  3.04827690e-02],\n",
       "         [ 4.30546179e-02, -2.48817354e-03, -1.58887357e-04, ...,\n",
       "          -4.17769998e-02,  3.87752205e-02,  9.90960374e-03],\n",
       "         ...,\n",
       "         [ 2.37649456e-02, -2.65122596e-02, -4.28194851e-02, ...,\n",
       "           1.05212629e-02, -4.58720215e-02, -4.39304188e-02],\n",
       "         [-3.64845768e-02, -4.30398509e-02, -1.32876299e-02, ...,\n",
       "           3.07141244e-03, -1.83900334e-02,  4.04903367e-02],\n",
       "         [-2.43060943e-02, -1.88806653e-03, -2.99639143e-02, ...,\n",
       "           1.20857358e-02,  2.36608684e-02, -3.47332507e-02]],\n",
       "\n",
       "        [[-4.34038676e-02, -1.88525915e-02,  4.16352302e-02, ...,\n",
       "           3.50798592e-02,  9.22104716e-03, -1.57318264e-03],\n",
       "         [-2.09518149e-02,  8.74865800e-04, -3.27835754e-02, ...,\n",
       "          -2.16390993e-02,  2.39362717e-02, -3.13149653e-02],\n",
       "         [-1.62009634e-02,  1.92080215e-02, -4.66010720e-03, ...,\n",
       "          -2.39763148e-02,  1.87937245e-02,  4.15693894e-02],\n",
       "         ...,\n",
       "         [ 4.09510359e-02,  3.20383087e-02, -1.69790499e-02, ...,\n",
       "           1.95298791e-02, -3.52514610e-02,  4.16286290e-03],\n",
       "         [-1.57584921e-02, -4.81963567e-02,  7.59372115e-03, ...,\n",
       "          -4.87763248e-02, -1.81837454e-02, -1.73071511e-02],\n",
       "         [ 1.50902569e-03,  3.58100608e-02,  4.04036045e-02, ...,\n",
       "          -3.14352736e-02,  1.20630637e-02, -3.32581736e-02]]],\n",
       "\n",
       "\n",
       "       [[[ 1.23517588e-02, -5.13741747e-02, -4.63943183e-02, ...,\n",
       "           1.44192278e-02,  3.29095572e-02,  4.71124426e-02],\n",
       "         [ 1.11620128e-02,  5.19523770e-03,  6.59038872e-03, ...,\n",
       "           1.88459754e-02, -2.67755911e-02,  3.97450849e-02],\n",
       "         [-2.94199996e-02, -1.42158568e-03, -2.50029843e-02, ...,\n",
       "           9.51104239e-03,  3.30265388e-02,  1.97685435e-02],\n",
       "         ...,\n",
       "         [ 4.14102450e-02, -3.87198664e-02, -4.20809425e-02, ...,\n",
       "           3.77394557e-02, -1.77328438e-02,  1.26561895e-02],\n",
       "         [ 2.34499201e-02,  8.32765549e-03, -3.63892280e-02, ...,\n",
       "          -3.69745642e-02, -1.55223496e-02, -3.28221507e-02],\n",
       "         [ 4.75913808e-02,  1.03815570e-02,  2.40699947e-02, ...,\n",
       "           2.67003626e-02, -3.48058715e-02,  7.78066739e-03]],\n",
       "\n",
       "        [[-2.05989592e-02, -3.02208159e-02,  3.08900848e-02, ...,\n",
       "           3.56087983e-02, -1.79921836e-02,  3.23431417e-02],\n",
       "         [-2.83004902e-02,  3.58975083e-02, -2.76904553e-03, ...,\n",
       "          -2.61575393e-02,  1.03120208e-02,  4.13202941e-02],\n",
       "         [ 2.24956051e-02,  9.56197456e-03, -1.63307115e-02, ...,\n",
       "           1.86752528e-03,  3.80931497e-02,  2.06571966e-02],\n",
       "         ...,\n",
       "         [ 1.10216215e-02, -1.38831027e-02,  3.45480740e-02, ...,\n",
       "           1.62684843e-02, -1.98395364e-02, -8.97330791e-03],\n",
       "         [-4.96567152e-02, -1.86133124e-02,  4.70476821e-02, ...,\n",
       "           4.57939059e-02, -2.96930671e-02,  1.53921321e-02],\n",
       "         [ 3.24046686e-02,  4.89493459e-03,  3.76443192e-02, ...,\n",
       "          -3.96969169e-03,  1.55386999e-02,  2.99096480e-03]],\n",
       "\n",
       "        [[ 7.29747117e-05, -4.11860533e-02,  3.06856632e-03, ...,\n",
       "          -2.27394700e-02, -1.14661492e-02, -6.89282641e-03],\n",
       "         [ 3.25503945e-03,  5.12859002e-02,  1.91781819e-02, ...,\n",
       "           2.63582543e-02,  2.39118040e-02, -3.02209463e-02],\n",
       "         [-5.10056950e-02,  3.29839438e-02,  1.97797790e-02, ...,\n",
       "          -4.10977453e-02,  7.91797414e-03, -2.36773547e-02],\n",
       "         ...,\n",
       "         [-2.35254504e-02, -3.20069119e-02,  1.88048333e-02, ...,\n",
       "           9.34935361e-03, -1.94932148e-03, -4.54189405e-02],\n",
       "         [ 1.14555955e-02,  1.36487335e-02, -5.32913581e-03, ...,\n",
       "           2.02607736e-02, -1.52723193e-02,  3.34275439e-02],\n",
       "         [-1.23511851e-02,  1.81112140e-02,  2.26595253e-02, ...,\n",
       "          -7.67141581e-04, -4.99086864e-02, -4.98921499e-02]]]],\n",
       "      dtype=float32)"
      ]
     },
     "execution_count": 12,
     "metadata": {},
     "output_type": "execute_result"
    }
   ],
   "source": [
    "npweights1"
   ]
  },
  {
   "cell_type": "code",
   "execution_count": null,
   "metadata": {},
   "outputs": [],
   "source": []
  },
  {
   "cell_type": "code",
   "execution_count": null,
   "metadata": {},
   "outputs": [],
   "source": []
  },
  {
   "cell_type": "code",
   "execution_count": null,
   "metadata": {},
   "outputs": [],
   "source": []
  },
  {
   "cell_type": "code",
   "execution_count": 13,
   "metadata": {},
   "outputs": [
    {
     "ename": "NameError",
     "evalue": "name 'outputs' is not defined",
     "output_type": "error",
     "traceback": [
      "\u001b[1;31m---------------------------------------------------------------------------\u001b[0m",
      "\u001b[1;31mNameError\u001b[0m                                 Traceback (most recent call last)",
      "\u001b[1;32m<ipython-input-13-228b64695b94>\u001b[0m in \u001b[0;36m<module>\u001b[1;34m()\u001b[0m\n\u001b[1;32m----> 1\u001b[1;33m \u001b[0m_\u001b[0m\u001b[1;33m,\u001b[0m \u001b[0mpredicted\u001b[0m \u001b[1;33m=\u001b[0m \u001b[0mtorch\u001b[0m\u001b[1;33m.\u001b[0m\u001b[0mmax\u001b[0m\u001b[1;33m(\u001b[0m\u001b[0moutputs\u001b[0m\u001b[1;33m,\u001b[0m \u001b[1;36m1\u001b[0m\u001b[1;33m)\u001b[0m\u001b[1;33m\u001b[0m\u001b[0m\n\u001b[0m\u001b[0;32m      2\u001b[0m \u001b[1;33m\u001b[0m\u001b[0m\n\u001b[0;32m      3\u001b[0m print('Predicted: ', ' '.join('%5s' % classes[predicted[j]]\n\u001b[0;32m      4\u001b[0m                               for j in range(4)))\n",
      "\u001b[1;31mNameError\u001b[0m: name 'outputs' is not defined"
     ]
    }
   ],
   "source": [
    "_, predicted = torch.max(outputs, 1)\n",
    "\n",
    "print('Predicted: ', ' '.join('%5s' % classes[predicted[j]]\n",
    "                              for j in range(4)))"
   ]
  },
  {
   "cell_type": "code",
   "execution_count": null,
   "metadata": {},
   "outputs": [],
   "source": [
    "correct = 0\n",
    "total = 0\n",
    "with torch.no_grad():\n",
    "    for data in testloader:\n",
    "        images, labels = data\n",
    "        outputs = gen(images)\n",
    "        _, predicted = torch.max(outputs.data, 1)\n",
    "        total += labels.size(0)\n",
    "        correct += (predicted == labels).sum().item()\n",
    "\n",
    "print('Accuracy of the network on the 10000 test images: %d %%' % (\n",
    "    100 * correct / total))"
   ]
  },
  {
   "cell_type": "code",
   "execution_count": null,
   "metadata": {},
   "outputs": [],
   "source": [
    "class_correct = list(0. for i in range(10))\n",
    "class_total = list(0. for i in range(10))\n",
    "with torch.no_grad():\n",
    "    for data in testloader:\n",
    "        images, labels = data\n",
    "        outputs = net(images)\n",
    "        _, predicted = torch.max(outputs, 1)\n",
    "        c = (predicted == labels).squeeze()\n",
    "        for i in range(4):\n",
    "            label = labels[i]\n",
    "            class_correct[label] += c[i].item()\n",
    "            class_total[label] += 1\n",
    "\n",
    "\n",
    "for i in range(10):\n",
    "    print('Accuracy of %5s : %2d %%' % (\n",
    "        classes[i], 100 * class_correct[i] / class_total[i]))"
   ]
  },
  {
   "cell_type": "code",
   "execution_count": null,
   "metadata": {},
   "outputs": [],
   "source": []
  },
  {
   "cell_type": "code",
   "execution_count": null,
   "metadata": {},
   "outputs": [],
   "source": []
  }
 ],
 "metadata": {
  "kernelspec": {
   "display_name": "Python 3",
   "language": "python",
   "name": "python3"
  },
  "language_info": {
   "codemirror_mode": {
    "name": "ipython",
    "version": 3
   },
   "file_extension": ".py",
   "mimetype": "text/x-python",
   "name": "python",
   "nbconvert_exporter": "python",
   "pygments_lexer": "ipython3",
   "version": "3.7.0"
  }
 },
 "nbformat": 4,
 "nbformat_minor": 2
}
