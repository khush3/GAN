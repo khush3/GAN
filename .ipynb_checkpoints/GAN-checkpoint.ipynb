{
 "cells": [
  {
   "cell_type": "code",
   "execution_count": 1,
   "metadata": {},
   "outputs": [],
   "source": [
    "##Generative Adversarial Network"
   ]
  },
  {
   "cell_type": "code",
   "execution_count": 2,
   "metadata": {},
   "outputs": [],
   "source": [
    "#create dataloaders\n",
    "from random import randint as ri\n",
    "import torch as torch\n",
    "import torchvision\n",
    "import torchvision.transforms as transforms\n",
    "\n",
    "transform = transforms.Compose(\n",
    "    [transforms.ToTensor(),\n",
    "     transforms.Normalize((0.5, 0.5, 0.5), (0.5, 0.5, 0.5))])\n",
    "\n",
    "trainset = torchvision.datasets.MNIST(root='./data', train=True,\n",
    "                                        download=True, transform=transform)\n",
    "trainloader = torch.utils.data.DataLoader(trainset, batch_size=4,\n",
    "                                          shuffle=True, num_workers=2)\n",
    "\n",
    "testset = torchvision.datasets.MNIST(root='./data', train=False,\n",
    "                                       download=True, transform=transform)\n",
    "testloader = torch.utils.data.DataLoader(testset, batch_size=4,\n",
    "                                         shuffle=False, num_workers=2)\n",
    "\n",
    "classes = ('zero', 'one', 'two', 'three',\n",
    "           'four', 'five', 'six', 'seven', 'eight', 'nine')"
   ]
  },
  {
   "cell_type": "code",
   "execution_count": 3,
   "metadata": {},
   "outputs": [
    {
     "data": {
      "text/plain": [
       "<Figure size 640x480 with 1 Axes>"
      ]
     },
     "metadata": {},
     "output_type": "display_data"
    },
    {
     "name": "stdout",
     "output_type": "stream",
     "text": [
      "       two        two       three       four\n"
     ]
    }
   ],
   "source": [
    "#check if data is loaded properly\n",
    "import matplotlib.pyplot as plt\n",
    "import numpy as np\n",
    "\n",
    "# functions to show an image\n",
    "def imshow(img):\n",
    "    img = img / 2 + 0.5     # unnormalize\n",
    "    npimg = img.detach().numpy()\n",
    "    plt.imshow(np.transpose(npimg, (1, 2, 0)))\n",
    "    plt.show()\n",
    "\n",
    "# get some random training images\n",
    "dataiter = iter(trainloader)\n",
    "images, labels = dataiter.next()\n",
    "\n",
    "# show images\n",
    "imshow(torchvision.utils.make_grid(images))\n",
    "# print labels\n",
    "print(' '.join('      %4s' % classes[labels[j]] for j in range(4)))"
   ]
  },
  {
   "cell_type": "code",
   "execution_count": 4,
   "metadata": {},
   "outputs": [],
   "source": [
    "#Generator model \n",
    "import torch.nn as nn\n",
    "import torch.nn.functional as F\n",
    "\n",
    "\n",
    "class Generator(nn.Module):\n",
    "    def __init__(self):\n",
    "        \n",
    "        super(Generator, self).__init__()\n",
    "        self.block = nn.Sequential(\n",
    "            nn.ConvTranspose2d(in_channels = 32, out_channels = 16, kernel_size = (5), stride= 4),      #Apply a convolutional block\n",
    "            nn.ReLU(),\n",
    "            nn.BatchNorm2d(16),\n",
    "            nn.Conv2d(in_channels = 16, out_channels = 1, kernel_size = (14), stride= 1),\n",
    "        )\n",
    "        \n",
    "    def forward(self, x):\n",
    "        x = self.block(x);\n",
    "        \n",
    "        return abs(x%1)"
   ]
  },
  {
   "cell_type": "code",
   "execution_count": 5,
   "metadata": {
    "scrolled": true
   },
   "outputs": [
    {
     "data": {
      "image/png": "[encoded data removed]",
      "text/plain": [
       "<Figure size 432x288 with 1 Axes>"
      ]
     },
     "metadata": {
      "needs_background": "light"
     },
     "output_type": "display_data"
    },
    {
     "data": {
      "text/plain": [
       "torch.Size([4, 1, 28, 28])"
      ]
     },
     "execution_count": 5,
     "metadata": {},
     "output_type": "execute_result"
    }
   ],
   "source": [
    "gen = Generator()\n",
    "gen_ip = torch.randn(4,32,10,10)\n",
    "gen_ip.shape\n",
    "a = gen(gen_ip)\n",
    "imshow(torchvision.utils.make_grid(a[0]))\n",
    "a.shape"
   ]
  },
  {
   "cell_type": "code",
   "execution_count": null,
   "metadata": {},
   "outputs": [],
   "source": []
  },
  {
   "cell_type": "code",
   "execution_count": 6,
   "metadata": {},
   "outputs": [],
   "source": [
    "#Discriminator model \n",
    "\n",
    "class Discriminator(nn.Module):\n",
    "    def __init__(self):\n",
    "        \n",
    "        super(Discriminator, self).__init__()\n",
    "        self.block = nn.Sequential(\n",
    "            nn.Conv2d(1, 3, 5),\n",
    "            nn.ReLU(),\n",
    "            nn.MaxPool2d(2, 2),\n",
    "            nn.Conv2d(3, 6, 5),\n",
    "            nn.ReLU(),\n",
    "            nn.MaxPool2d(2, 2),\n",
    "            \n",
    "        )\n",
    "        \n",
    "        self.fc1 = nn.Linear( 24*4, 120)\n",
    "        self.fc2 = nn.Linear(120, 84)\n",
    "        self.fc3 = nn.Linear(84, 10)         \n",
    "\n",
    "    def forward(self, x):\n",
    "        x = self.block(x);\n",
    "        x = x.view(-1,  24*4)\n",
    "        x = F.relu(self.fc1(x));\n",
    "        x = F.relu(self.fc2(x));\n",
    "        x = self.fc3(x);\n",
    "        #_, predicted = torch.max(x,1);\n",
    "        return x\n"
   ]
  },
  {
   "cell_type": "code",
   "execution_count": 7,
   "metadata": {},
   "outputs": [],
   "source": [
    "#Create an instance of the generator and discriminator\n",
    "gen = Generator()\n",
    "dis = Discriminator()"
   ]
  },
  {
   "cell_type": "code",
   "execution_count": 8,
   "metadata": {},
   "outputs": [],
   "source": [
    "#create optimization function and loss function for both generator and discriminator\n",
    "import torch.optim as optim\n",
    "\n",
    "criteriondis = nn.CrossEntropyLoss()\n",
    "criteriongen = nn.MSELoss()\n",
    "gen_optimizer = optim.Adam(gen.parameters(), lr=0.002, betas = (0.5,0.999))\n",
    "dis_optimizer = optim.Adam(dis.parameters(), lr = 0.00001, betas = (0.5,0.999))"
   ]
  },
  {
   "cell_type": "code",
   "execution_count": 9,
   "metadata": {},
   "outputs": [],
   "source": [
    "#Load previously trained weights:\n",
    "numpygen_conv1_weight = np.load('parameters/numpygen_conv1_weight.npy')\n",
    "numpygen_conv1_bias   = np.load('parameters/numpygen_conv1_bias.npy')\n",
    "numpygen_bn_weight    = np.load('parameters/numpygen_bn_weight.npy')\n",
    "numpygen_bn_bias      = np.load('parameters/numpygen_bn_bias.npy')\n",
    "numpygen_conv2_weight = np.load('parameters/numpygen_conv2_weight.npy')\n",
    "numpygen_conv2_bias   = np.load('parameters/numpygen_conv2_bias.npy')\n",
    "numpydis_conv1_weight = np.load('parameters/numpydis_conv1_weight.npy')\n",
    "numpydis_conv1_bias   = np.load('parameters/numpydis_conv1_bias.npy')\n",
    "numpydis_bn_weight    = np.load('parameters/numpydis_bn_weight.npy')\n",
    "numpydis_bn_bias      = np.load('parameters/numpydis_bn_bias.npy')\n",
    "\n",
    "#Write to the models\n",
    "#gen_conv1_weight = gen.block[0].weight\n",
    "#gen_conv1_bias = gen.block[0].bias\n",
    "#gen_bn_weight = gen.block[2].weight\n",
    "#gen_bn_bias = gen.block[2].bias\n",
    "#gen_conv2_weight = gen.block[3].weight\n",
    "#gen_conv2_bias = gen.block[3].bias\n",
    "#numpygen_conv1_weight = gen_conv1_weight.data.numpy()\n",
    "#numpygen_conv1_bias = gen_conv1_bias.data.numpy()\n",
    "#numpygen_bn_weight = gen_bn_weight.data.numpy()\n",
    "#numpygen_bn_bias = gen_bn_bias.data.numpy()\n",
    "#numpygen_conv2_weight = gen_conv2_weight.data.numpy()\n",
    "#numpygen_conv2_bias = gen_conv2_bias.data.numpy()\n",
    "#discriminator\n",
    "#dis_conv1_weight = dis.block[0].weight\n",
    "#dis_conv1_bias = dis.block[0].bias\n",
    "#dis_bn_weight = dis.block[3].weight\n",
    "#dis_bn_bias = dis.block[3].bias\n",
    "#numpydis_conv1_weight = dis_conv1_weight.data.numpy()\n",
    "#numpydis_conv1_bias = dis_conv1_bias.data.numpy()\n",
    "#numpydis_bn_weight = dis_bn_weight.data.numpy()\n",
    "#numpydis_bn_bias = dis_bn_bias.data.numpy()"
   ]
  },
  {
   "cell_type": "code",
   "execution_count": null,
   "metadata": {},
   "outputs": [
    {
     "name": "stdout",
     "output_type": "stream",
     "text": [
      ".\n",
      ".\n",
      ".\n",
      ".\n",
      ".\n",
      ".\n",
      ".\n",
      ".\n",
      ".\n",
      ".\n",
      "Epoch: 1 | No of images:  2000 | real_loss: 2.328 | fake_loss: 0.000 | gen_loss: 1.994\n",
      ".\n",
      ".\n",
      ".\n",
      ".\n",
      ".\n",
      ".\n",
      ".\n",
      ".\n",
      ".\n",
      ".\n",
      "Epoch: 1 | No of images:  4000 | real_loss: 0.071 | fake_loss: 0.000 | gen_loss: 1.970\n",
      ".\n",
      ".\n",
      ".\n",
      ".\n",
      ".\n",
      ".\n",
      ".\n",
      ".\n",
      ".\n",
      ".\n",
      "Epoch: 1 | No of images:  6000 | real_loss: 0.001 | fake_loss: 0.000 | gen_loss: 1.935\n"
     ]
    }
   ],
   "source": [
    "#Train the GAN\n",
    "for epoch in range(1):\n",
    "\n",
    "    running_loss_real = 0.0\n",
    "    running_loss_fake = 0.0\n",
    "    running_loss_gen  = 0.0\n",
    "    \n",
    "    for i, data in enumerate(trainloader, 0):\n",
    "        # get the inputs\n",
    "        real_images, real_labels = data\n",
    "        ones = torch.ones(real_labels.shape,dtype = torch.int64)\n",
    "        zeros = torch.zeros(real_labels.shape,dtype = torch.int64)\n",
    "        gen_ip = torch.randn((4,32,10,10))\n",
    "\n",
    "\n",
    "        # zero the parameter gradients\n",
    "        gen_optimizer.zero_grad()\n",
    "        dis_optimizer.zero_grad()\n",
    "\n",
    "        # forward + backward + optimize\n",
    "        gen_op = gen(gen_ip)\n",
    "        dis_op = dis(real_images)\n",
    "        \n",
    "        #Minimize discriminator loss against ones\n",
    "        real_output = dis(real_images)\n",
    "        real_loss = criteriondis(real_output.float(), ones)\n",
    "        real_loss.backward()\n",
    "        dis_optimizer.step()\n",
    "        \n",
    "        #Minimize discriminator loss against zeros\n",
    "        fake_images = gen(gen_ip)\n",
    "        fake_output = dis(fake_images)\n",
    "        fake_loss = criteriondis(fake_output.float(), zeros)\n",
    "        fake_loss.backward()\n",
    "        dis_optimizer.step()\n",
    "        \n",
    "        #Minimize generator loss\n",
    "        fake_images = gen(gen_ip)\n",
    "        gen_loss = criteriongen(fake_images.float(), real_images.float())\n",
    "        gen_loss.backward()\n",
    "        gen_optimizer.step()\n",
    "\n",
    "        # print statistics\n",
    "        running_loss_real += real_loss.item()\n",
    "        running_loss_real += fake_loss.item()\n",
    "        running_loss_gen += gen_loss.item()\n",
    "        if i%200 == 199:\n",
    "            print('.')\n",
    "        if i % 2000 == 1999:    # print every 2000 mini-batches\n",
    "            print('Epoch: %d | No of images: %5d | real_loss: %.3f | fake_loss: %.3f | gen_loss: %.3f' %\n",
    "                  (epoch + 1, i + 1, running_loss_real / 2000, running_loss_fake / 2000, running_loss_gen / 2000))\n",
    "            running_loss_real = 0.0\n",
    "            running_loss_fake = 0.0\n",
    "            running_loss_gen  = 0.0\n",
    "\n",
    "print('Finished Training')"
   ]
  },
  {
   "cell_type": "code",
   "execution_count": null,
   "metadata": {},
   "outputs": [],
   "source": [
    "temp = gen(gen_ip)\n",
    "imshow(torchvision.utils.make_grid(temp[0]))"
   ]
  },
  {
   "cell_type": "code",
   "execution_count": null,
   "metadata": {},
   "outputs": [],
   "source": [
    "#obtain the learned weights and biases\n",
    "\n",
    "#generator\n",
    "gen_conv1_weight = gen.block[0].weight\n",
    "gen_conv1_bias = gen.block[0].bias\n",
    "gen_bn_weight = gen.block[2].weight\n",
    "gen_bn_bias = gen.block[2].bias\n",
    "gen_conv2_weight = gen.block[3].weight\n",
    "gen_conv2_bias = gen.block[3].bias\n",
    "numpygen_conv1_weight = gen_conv1_weight.data.numpy()\n",
    "numpygen_conv1_bias = gen_conv1_bias.data.numpy()\n",
    "numpygen_bn_weight = gen_bn_weight.data.numpy()\n",
    "numpygen_bn_bias = gen_bn_bias.data.numpy()\n",
    "numpygen_conv2_weight = gen_conv2_weight.data.numpy()\n",
    "numpygen_conv2_bias = gen_conv2_bias.data.numpy()\n",
    "#discriminator\n",
    "dis_conv1_weight = dis.block[0].weight\n",
    "dis_conv1_bias = dis.block[0].bias\n",
    "dis_bn_weight = dis.block[3].weight\n",
    "dis_bn_bias = dis.block[3].bias\n",
    "numpydis_conv1_weight = dis_conv1_weight.data.numpy()\n",
    "numpydis_conv1_bias = dis_conv1_bias.data.numpy()\n",
    "numpydis_bn_weight = dis_bn_weight.data.numpy()\n",
    "numpydis_bn_bias = dis_bn_bias.data.numpy()\n",
    "\n",
    "\n",
    "#save the parameters\n",
    "np.save('parameters/numpygen_conv1_weight', numpygen_conv1_weight)\n",
    "np.save('parameters/numpygen_conv1_bias', numpygen_conv1_bias)\n",
    "np.save('parameters/numpygen_bn_weight', numpygen_bn_weight)\n",
    "np.save('parameters/numpygen_bn_bias', numpygen_bn_bias)\n",
    "np.save('parameters/numpygen_conv2_weight', numpygen_conv2_weight)\n",
    "np.save('parameters/numpygen_conv2_bias', numpygen_conv2_bias)\n",
    "np.save('parameters/numpydis_conv1_weight', numpydis_conv1_weight)\n",
    "np.save('parameters/numpydis_conv1_bias', numpydis_conv1_bias)\n",
    "np.save('parameters/numpydis_bn_weight', numpydis_bn_weight)\n",
    "np.save('parameters/numpydis_bn_bias', numpydis_bn_bias)\n"
   ]
  },
  {
   "cell_type": "code",
   "execution_count": null,
   "metadata": {},
   "outputs": [],
   "source": [
    "torch.save(gen.state_dict(), 'parameters/gen')\n",
    "torch.save(dis.state_dict(), 'parameters/dis')"
   ]
  },
  {
   "cell_type": "code",
   "execution_count": null,
   "metadata": {},
   "outputs": [],
   "source": []
  }
 ],
 "metadata": {
  "kernelspec": {
   "display_name": "Python 3",
   "language": "python",
   "name": "python3"
  },
  "language_info": {
   "codemirror_mode": {
    "name": "ipython",
    "version": 3
   },
   "file_extension": ".py",
   "mimetype": "text/x-python",
   "name": "python",
   "nbconvert_exporter": "python",
   "pygments_lexer": "ipython3",
   "version": "3.7.0"
  }
 },
 "nbformat": 4,
 "nbformat_minor": 2
}
